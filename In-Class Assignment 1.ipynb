{
 "cells": [
  {
   "cell_type": "code",
   "execution_count": 293,
   "metadata": {},
   "outputs": [],
   "source": [
    "import numpy\n",
    "import sklearn.datasets\n",
    "import matplotlib.pyplot as pyplot\n",
    "data, target = sklearn.datasets.load_boston(True)"
   ]
  },
  {
   "cell_type": "code",
   "execution_count": 294,
   "metadata": {},
   "outputs": [],
   "source": [
    "o = numpy.ones((506,1))\n",
    "boston = numpy.column_stack((data,o))\n",
    "\n",
    "A = numpy.column_stack((boston,target))\n",
    "numpy.random.shuffle(A)\n",
    "#LS\n",
    "#w = numpy.matmul(numpy.matmul(numpy.linalg.inv(numpy.matmul(boston.T, boston)), boston.T),target)"
   ]
  },
  {
   "cell_type": "markdown",
   "metadata": {},
   "source": [
    "# Least Squared Regression"
   ]
  },
  {
   "cell_type": "code",
   "execution_count": 295,
   "metadata": {},
   "outputs": [],
   "source": [
    "acc = []\n",
    "ytestlist = [];\n",
    "ypredlist = [];\n",
    "for i in range(5):\n",
    "    if i == 0:\n",
    "        testing = A[0:101,:]\n",
    "        training = A[101:506,:]\n",
    "    if i == 1:\n",
    "        testing = A[101:202,:]\n",
    "        training = numpy.concatenate((A[0:101,:],A[202:506,:]), axis=0)\n",
    "    if i == 2:\n",
    "        testing = A[202:303,]\n",
    "        training = numpy.concatenate((A[0:202,:],A[303:506,:]), axis=0)\n",
    "    if i == 3:\n",
    "        testing = A[303:404,:]\n",
    "        training = numpy.concatenate((A[0:303,:],A[404:506,:]), axis=0)\n",
    "    if i == 4:\n",
    "        testing = A[404:506,:]\n",
    "        training = A[0:404,:]\n",
    "\n",
    "    x = training[:,0:14]\n",
    "    y = training[:, 14]\n",
    "\n",
    "    xtest = testing[:,0:14]\n",
    "    ytest = testing[:, 14]\n",
    "\n",
    "    w = numpy.matmul(numpy.matmul(numpy.linalg.inv(numpy.matmul(x.T, x)), x.T),y)\n",
    "    ypred = numpy.matmul(xtest, w)\n",
    "    ytestlist = numpy.concatenate((ytestlist,ytest),0)\n",
    "    ypredlist = numpy.concatenate((ypredlist,ypred),0)\n",
    "    \n",
    "    sums = 0;\n",
    "    if i < 4:\n",
    "        for j in range(101):   \n",
    "            error = (ypred[j] - ytest[j])**2\n",
    "            sums = sums + error\n",
    "        temp = sums/101\n",
    "    else:\n",
    "        for j in range(102):   \n",
    "            error = (ypred[j] - ytest[j])**2\n",
    "            sums = sums + error\n",
    "        temp = sums/102\n",
    "    \n",
    "\n",
    "    acc.append(temp)\n"
   ]
  },
  {
   "cell_type": "code",
   "execution_count": 299,
   "metadata": {},
   "outputs": [
    {
     "name": "stdout",
     "output_type": "stream",
     "text": [
      "The Mean Error is: 23.55626052227266\n",
      "Plot of Measured vs Predicted\n"
     ]
    },
    {
     "data": {
      "image/png": "[encoded data removed]",
      "text/plain": [
       "<Figure size 432x288 with 1 Axes>"
      ]
     },
     "metadata": {
      "needs_background": "light"
     },
     "output_type": "display_data"
    }
   ],
   "source": [
    "mean = numpy.mean(acc)\n",
    "print(\"The Mean Error is:\", mean)\n",
    "\n",
    "pyplot.figure()\n",
    "pyplot.scatter(ytestlist.tolist(),ypredlist.tolist(),15);\n",
    "print(\"Plot of Measured vs Predicted\")"
   ]
  },
  {
   "cell_type": "markdown",
   "metadata": {},
   "source": [
    "# Ridge Regression"
   ]
  },
  {
   "cell_type": "code",
   "execution_count": 297,
   "metadata": {},
   "outputs": [],
   "source": [
    "lam = []\n",
    "lame = []\n",
    "L = numpy.arange(0,1,0.01)\n",
    "xval = A[404:506,0:14]\n",
    "yval = A[404:506,14]\n",
    "A = A[0:404,:]\n",
    "for l in L:\n",
    "    acc2 = []\n",
    "    for i in range(4):\n",
    "        if i == 0:\n",
    "            testing = A[0:101,:]\n",
    "            training = A[101:404,:]\n",
    "        if i == 1:\n",
    "            testing = A[101:202,:]\n",
    "            training = numpy.concatenate((A[0:101,:],A[202:404,:]), axis=0)\n",
    "        if i == 2:\n",
    "            testing = A[202:303,]\n",
    "            training = numpy.concatenate((A[0:202,:],A[303:404,:]), axis=0)\n",
    "        if i == 3:\n",
    "            testing = A[303:404,:]\n",
    "            training = numpy.concatenate((A[0:303,:],A[404:404,:]), axis=0)\n",
    "\n",
    "        x = training[:,0:14]\n",
    "        y = training[:, 14]\n",
    "\n",
    "        xtest = testing[:,0:14]\n",
    "        ytest = testing[:, 14]\n",
    "        \n",
    "        I = numpy.identity(numpy.shape(numpy.matmul(x.T, x))[0])\n",
    "        \n",
    "        w = numpy.matmul(numpy.matmul(numpy.linalg.inv(numpy.add(numpy.matmul(x.T, x),l*I)), x.T),y)\n",
    "               \n",
    "        ypred = numpy.matmul(xtest, w)\n",
    "        sums = 0;\n",
    "        temp = 0;\n",
    "\n",
    "        for j in range(101):   \n",
    "            error = (ypred[j] - ytest[j])**2\n",
    "            sums = sums + error\n",
    "        \n",
    "        temp = sums/101    \n",
    "        acc2.append(temp)\n",
    "    meantemp = numpy.mean(acc2)\n",
    "    lame.append(meantemp)\n",
    "    lam.append(l)"
   ]
  },
  {
   "cell_type": "code",
   "execution_count": 298,
   "metadata": {},
   "outputs": [
    {
     "name": "stdout",
     "output_type": "stream",
     "text": [
      "The best performing lambda value is: 0.02\n",
      "This lambda gives a prediction error of: 22.126160233003798\n",
      "The validation set gives a prediction error of: 32.64831108807122\n"
     ]
    }
   ],
   "source": [
    "index = numpy.argmin(lame)\n",
    "print(\"The best performing lambda value is:\",lam[index])\n",
    "print(\"This lambda gives a prediction error of:\", numpy.min(lame))\n",
    "#I found that the lambda value varies from around 0.0 to 0.7 depending on the ramdoization of the data.\n",
    "\n",
    "vpred = numpy.matmul(xval, w);\n",
    "sums = 0\n",
    "for i in range(102):   \n",
    "    error = (vpred[i] - yval[i])**2\n",
    "    sums = sums + error\n",
    "\n",
    "verror = sums/101\n",
    "print(\"The validation set gives a prediction error of:\", verror)"
   ]
  },
  {
   "cell_type": "code",
   "execution_count": null,
   "metadata": {},
   "outputs": [],
   "source": []
  }
 ],
 "metadata": {
  "kernelspec": {
   "display_name": "Python 3",
   "language": "python",
   "name": "python3"
  },
  "language_info": {
   "codemirror_mode": {
    "name": "ipython",
    "version": 3
   },
   "file_extension": ".py",
   "mimetype": "text/x-python",
   "name": "python",
   "nbconvert_exporter": "python",
   "pygments_lexer": "ipython3",
   "version": "3.7.1"
  }
 },
 "nbformat": 4,
 "nbformat_minor": 2
}
