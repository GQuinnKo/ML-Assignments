{
 "cells": [
  {
   "cell_type": "code",
   "execution_count": 449,
   "metadata": {},
   "outputs": [],
   "source": [
    "import numpy\n",
    "import matplotlib.pyplot as pyplot\n",
    "from sklearn.naive_bayes import GaussianNB;\n",
    "from sklearn.datasets import load_wine\n",
    "samples, labels = load_wine(return_X_y=True)"
   ]
  },
  {
   "cell_type": "code",
   "execution_count": 450,
   "metadata": {},
   "outputs": [],
   "source": [
    "samples = numpy.transpose(samples)\n",
    "\n",
    "m = numpy.mean(samples,1)\n",
    "samplesc = samples - numpy.reshape(m,(13,1))\n",
    "\n",
    "std = numpy.std(samples,1)\n",
    "samplesn = samples - numpy.reshape(m,(13,1))\n",
    "\n",
    "for i in range(13):\n",
    "    samplesn[i,:] = samplesc[i,:]/std[i]"
   ]
  },
  {
   "cell_type": "markdown",
   "metadata": {},
   "source": [
    "# PCA of Centered Data"
   ]
  },
  {
   "cell_type": "code",
   "execution_count": 451,
   "metadata": {},
   "outputs": [
    {
     "data": {
      "image/png": "[encoded data removed]",
      "text/plain": [
       "<Figure size 432x288 with 1 Axes>"
      ]
     },
     "metadata": {
      "needs_background": "light"
     },
     "output_type": "display_data"
    }
   ],
   "source": [
    "U,S,Vh = numpy.linalg.svd(samplesc)\n",
    "U2 = U[:,0:2]\n",
    "featc = numpy.matmul(numpy.transpose(U2),samplesc)\n",
    "\n",
    "\n",
    "l0 = []\n",
    "l1 = []\n",
    "l2 = []\n",
    "\n",
    "for i, l in enumerate(labels):\n",
    "    if l == 0:\n",
    "        l0.append(featc[:,i])\n",
    "    if l == 1:\n",
    "        l1.append(featc[:,i])\n",
    "    if l == 2:\n",
    "        l2.append(featc[:,i])\n",
    "        \n",
    "l0 = numpy.transpose(l0)\n",
    "l1 = numpy.transpose(l1)\n",
    "l2 = numpy.transpose(l2)\n",
    "points = [l0, l1, l2]\n",
    "\n",
    "c = [\"red\", \"green\", \"blue\"]\n",
    "mk = [\"s\", \"^\", \"o\"]\n",
    "\n",
    "f = pyplot.figure()\n",
    "for i in range(3):\n",
    "    x,y = points[i]\n",
    "    pyplot.scatter(x, y, c = c[i], marker=mk[i])"
   ]
  },
  {
   "cell_type": "markdown",
   "metadata": {},
   "source": [
    "# PCA of Normalized Data"
   ]
  },
  {
   "cell_type": "code",
   "execution_count": 452,
   "metadata": {},
   "outputs": [
    {
     "data": {
      "image/png": "[encoded data removed]",
      "text/plain": [
       "<Figure size 432x288 with 1 Axes>"
      ]
     },
     "metadata": {
      "needs_background": "light"
     },
     "output_type": "display_data"
    }
   ],
   "source": [
    "U,S,Vh = numpy.linalg.svd(samplesn)\n",
    "U2 = U[:,0:2]\n",
    "featn = numpy.matmul(numpy.transpose(U2),samplesn)\n",
    "\n",
    "\n",
    "l0 = []\n",
    "l1 = []\n",
    "l2 = []\n",
    "\n",
    "for i, l in enumerate(labels):\n",
    "    if l == 0:\n",
    "        l0.append(featn[:,i])\n",
    "    if l == 1:\n",
    "        l1.append(featn[:,i])\n",
    "    if l == 2:\n",
    "        l2.append(featn[:,i])\n",
    "        \n",
    "l0 = numpy.transpose(l0)\n",
    "l1 = numpy.transpose(l1)\n",
    "l2 = numpy.transpose(l2)\n",
    "points = [l0, l1, l2]\n",
    "\n",
    "c = [\"red\", \"green\", \"blue\"]\n",
    "mk = [\"s\", \"^\", \"o\"]\n",
    "\n",
    "f = pyplot.figure()\n",
    "for i in range(3):\n",
    "    x,y = points[i]\n",
    "    pyplot.scatter(x, y, c = c[i], marker=mk[i])"
   ]
  },
  {
   "cell_type": "markdown",
   "metadata": {},
   "source": [
    "Based on the graphs above, the normalized and centered data set would lead to a better classification performance. In the PCA of the normalized and centered data, the labels are much closer grouped and more seperated from the other labels."
   ]
  },
  {
   "cell_type": "markdown",
   "metadata": {},
   "source": [
    "# Naive Bayes Classification"
   ]
  },
  {
   "cell_type": "code",
   "execution_count": 464,
   "metadata": {},
   "outputs": [],
   "source": [
    "#Training fcn gets passed a 3x(Training Data) where rows 0,1 are features and row 2 is the label\n",
    "def train(A):\n",
    "    l0 = []\n",
    "    l1 = []\n",
    "    l2 = []\n",
    "    \n",
    "    for i in range(A.shape[1]):\n",
    "        l = A[2,i]\n",
    "        if l == 0:\n",
    "            l0.append(A[0:2,i])\n",
    "        if l == 1:\n",
    "            l1.append(A[0:2,i])\n",
    "        if l == 2:\n",
    "            l2.append(A[0:2,i])\n",
    "    \n",
    "    l0 = numpy.transpose(l0)\n",
    "    l1 = numpy.transpose(l1)\n",
    "    l2 = numpy.transpose(l2)\n",
    "    \n",
    "    mean0 = numpy.mean(l0,1)\n",
    "    mean1 = numpy.mean(l1,1)\n",
    "    mean2 = numpy.mean(l2,1)\n",
    "    mean = numpy.stack((mean0,mean1,mean2), axis=1)\n",
    "    \n",
    "    std0 = numpy.std(l0,1)\n",
    "    std1 = numpy.std(l1,1)\n",
    "    std2 = numpy.std(l2,1)\n",
    "    stdt = numpy.stack((std0,std1,std2), axis=1)\n",
    "\n",
    "    return mean, stdt\n",
    "\n",
    "#Gaussian PDF\n",
    "def GaussPDF(x, mean, std) :\n",
    "    return 1/numpy.sqrt(2*numpy.pi*std**2) * numpy.exp(-(x-mean)**2/(2*std**2));\n",
    "\n",
    "\n",
    "#Test fcn gets passed a 2x(Test Data). Mean and stdt should be 2x3 matrices for the mean and std of each feature per label\n",
    "def test(A, mean, stdt):\n",
    "    testl = []\n",
    "    for i in range(numpy.shape(A)[1]):\n",
    "        prob0 = GaussPDF(A[0,i],mean[0,0], stdt[0,0])*GaussPDF(A[1,i],mean[1,0], stdt[1,0])\n",
    "\n",
    "        prob1 = GaussPDF(A[0,i],mean[0,1], stdt[0,1])*GaussPDF(A[1,i],mean[1,1], stdt[1,1])\n",
    "        \n",
    "        prob2 = GaussPDF(A[0,i],mean[0,2], stdt[0,2])*GaussPDF(A[1,i],mean[1,2], stdt[1,2])\n",
    "        \n",
    "        \n",
    "        if max([prob0, prob1, prob2]) == prob0:\n",
    "            testl.append(0)\n",
    "        if max([prob0, prob1, prob2]) == prob1:\n",
    "            testl.append(1)\n",
    "        if max([prob0, prob1, prob2]) == prob2:\n",
    "            testl.append(2)\n",
    "    \n",
    "    return testl\n",
    "\n",
    "\n",
    "def KCV5(A, sk = False):\n",
    "    acc = []\n",
    "    for i in range(5):\n",
    "        if i == 0:\n",
    "            testing = A[:,0:36]\n",
    "            training = A[:,36:178]\n",
    "        if i == 1:\n",
    "            testing = A[:,36:72]\n",
    "            training = numpy.concatenate((A[:,0:36],A[:,72:178]), axis=1)\n",
    "        if i == 2:\n",
    "            testing = A[:,72:108]\n",
    "            training = numpy.concatenate((A[:,0:72],A[:,108:178]), axis=1)\n",
    "        if i == 3:\n",
    "            testing = A[:,108:143]\n",
    "            training = numpy.concatenate((A[:,0:108],A[:,143:178]), axis=1)\n",
    "        if i == 4:\n",
    "            testing = A[:,143:178]\n",
    "            training = A[:,0:143]\n",
    "            \n",
    "        if sk == False:\n",
    "            mean, std = train(training)\n",
    "\n",
    "            predlabels = test(testing[0:2,:], mean, std)\n",
    "        if sk == True:\n",
    "            g = GaussianNB();\n",
    "            \n",
    "            g.fit(training[0:2,:].T, training[2,:].T)\n",
    "            predlabels = g.predict(testing[0:2,:].T)\n",
    "            \n",
    "        numcor = 0\n",
    "        for j, l in enumerate(predlabels):\n",
    "            if l == testing[2,j]:\n",
    "                numcor += 1\n",
    "        temp = numcor/numpy.shape(testing)[1]\n",
    "\n",
    "        acc.append(temp)\n",
    "        \n",
    "            \n",
    "    return acc\n",
    "                \n",
    "        "
   ]
  },
  {
   "cell_type": "markdown",
   "metadata": {},
   "source": [
    "# Case I, II, and III"
   ]
  },
  {
   "cell_type": "code",
   "execution_count": 470,
   "metadata": {
    "scrolled": true
   },
   "outputs": [
    {
     "name": "stdout",
     "output_type": "stream",
     "text": [
      "Case I: Classification of the Centered Data Using my Naive Bayes Classifier.\n",
      "Accuracy of each K-CV test: [0.8333333333333334, 0.75, 0.75, 0.7142857142857143, 0.7428571428571429]\n",
      "Mean: 0.7580952380952382\n",
      "Variance: 0.039858024681603016\n",
      "\n",
      "Case II: Classification of the Centered and Normalized Data Using my Naive Bayes Classifier.\n",
      "Accuracy of each K-CV test: [0.9444444444444444, 1.0, 0.9444444444444444, 0.9714285714285714, 1.0]\n",
      "Mean: 0.9720634920634922\n",
      "Variance: 0.0006173847316704466\n",
      "\n",
      "Case III: Classification of the Centered and Normalized Data Using sklearn's Naive Bayes Classifier.\n",
      "Accuracy of each K-CV test: [0.9444444444444444, 0.9722222222222222, 0.9444444444444444, 0.9714285714285714, 0.9714285714285714]\n",
      "Mean: 0.9607936507936508\n",
      "Variance: 0.00017828168304358797\n"
     ]
    }
   ],
   "source": [
    "featc2 = numpy.vstack((featc,numpy.reshape(labels,[1,178])))\n",
    "featn2 = numpy.vstack((featn,numpy.reshape(labels,[1,178])))\n",
    "\n",
    "featc2 = numpy.random.permutation(featc2.T).T\n",
    "featn2 = numpy.random.permutation(featn2.T).T\n",
    "\n",
    "#Case 1\n",
    "plsc = KCV5(featc2)\n",
    "print(\"Case I: Classification of the Centered Data Using my Naive Bayes Classifier.\")\n",
    "print(\"Accuracy of each K-CV test:\",plsc)\n",
    "print(\"Mean:\",numpy.mean(plsc))\n",
    "print(\"Variance:\",numpy.std(plsc))\n",
    "\n",
    "print()\n",
    "print(\"Case II: Classification of the Centered and Normalized Data Using my Naive Bayes Classifier.\")\n",
    "#Case 2\n",
    "plsn1 = KCV5(featn2)\n",
    "print(\"Accuracy of each K-CV test:\",plsn1)\n",
    "print(\"Mean:\",numpy.mean(plsn1))\n",
    "print(\"Variance:\",numpy.var(plsn1))\n",
    "\n",
    "print()\n",
    "print(\"Case III: Classification of the Centered and Normalized Data Using sklearn's Naive Bayes Classifier.\")\n",
    "#Case 3\n",
    "plsn2 = KCV5(featn2, sk = True)\n",
    "print(\"Accuracy of each K-CV test:\",plsn2)\n",
    "print(\"Mean:\",numpy.mean(plsn2))\n",
    "print(\"Variance:\",numpy.var(plsn2))\n"
   ]
  },
  {
   "cell_type": "markdown",
   "metadata": {},
   "source": [
    "As predicted earlier, the classifier I made has a higher accuracy when working with centered and normalized data as opposed to just centered. The mean accuracy is higher and the variance is lower when classifying centered and normalized data. So its obvious than when attempting to classify data you should center and normalize it for the best resusts. As for my implementation of the classifier, I achieved a simimlar accuracy as the sklearn implementation. Since sklearn's functions are well trusted, it is safe to say that my algorithm is effective in implementing a Naive Bayes Classifier."
   ]
  }
 ],
 "metadata": {
  "kernelspec": {
   "display_name": "Python 3",
   "language": "python",
   "name": "python3"
  },
  "language_info": {
   "codemirror_mode": {
    "name": "ipython",
    "version": 3
   },
   "file_extension": ".py",
   "mimetype": "text/x-python",
   "name": "python",
   "nbconvert_exporter": "python",
   "pygments_lexer": "ipython3",
   "version": "3.7.0"
  }
 },
 "nbformat": 4,
 "nbformat_minor": 2
}
